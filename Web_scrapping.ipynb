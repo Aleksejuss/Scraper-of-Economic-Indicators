{
 "cells": [
  {
   "cell_type": "markdown",
   "metadata": {},
   "source": [
    "# Libraries"
   ]
  },
  {
   "cell_type": "code",
   "execution_count": 1,
   "metadata": {},
   "outputs": [],
   "source": [
    "from bs4 import BeautifulSoup\n",
    "import requests\n",
    "import datetime\n",
    "import logging\n",
    "import pandas as pd\n",
    "import csv\n",
    "# from sqlalchemy import create_engine\n",
    "# import sqlite3"
   ]
  },
  {
   "cell_type": "markdown",
   "metadata": {},
   "source": [
    "# Getting economic news data from forexfactory.com"
   ]
  },
  {
   "cell_type": "markdown",
   "metadata": {},
   "source": [
    "- https://www.forexfactory.com/"
   ]
  },
  {
   "cell_type": "code",
   "execution_count": 2,
   "metadata": {},
   "outputs": [],
   "source": [
    "forcal = []\n",
    "\n",
    "def setLogger():\n",
    "    logging.basicConfig(level=logging.INFO,\n",
    "                    format='%(asctime)s - %(levelname)s - %(message)s',\n",
    "                    filename='logs_file',\n",
    "                    filemode='w')\n",
    "    console = logging.StreamHandler()\n",
    "    formatter = logging.Formatter('%(asctime)s - %(levelname)s - %(message)s')\n",
    "    console.setFormatter(formatter)\n",
    "    logging.getLogger('').addHandler(console)\n",
    "\n",
    "def getEconomicCalendar(startlink,endlink):\n",
    "\n",
    "    # write to console current status\n",
    "    logging.info(\"Scraping data for link: {}\".format(startlink))\n",
    "\n",
    "    # get the page and make the soup\n",
    "    baseURL = \"https://www.forexfactory.com/\"\n",
    "    r = requests.get(baseURL + startlink)\n",
    "    data = r.text\n",
    "    soup = BeautifulSoup(data, \"html.parser\")\n",
    "\n",
    "    # get and parse table data, ignoring details and graph\n",
    "    table = soup.find(\"table\", class_=\"calendar__table\")\n",
    "\n",
    "    # do not use the \".calendar__row--grey\" css selector (reserved for historical data)\n",
    "    trs = table.select(\"tr.calendar__row.calendar_row\")\n",
    "    fields = [\"date\",\"time\",\"currency\",\"impact\",\"event\",\"actual\",\"forecast\",\"previous\"]\n",
    "\n",
    "    # some rows do not have a date (cells merged)\n",
    "    curr_year = startlink[-4:]\n",
    "    curr_date = \"\"\n",
    "    curr_time = \"\"\n",
    "    for tr in trs:\n",
    "        dict = {}\n",
    "\n",
    "        # fields may mess up sometimes, see Tue Sep 25 2:45AM French Consumer Spending\n",
    "        # in that case we append to errors.csv the date time where the error is\n",
    "        try:\n",
    "            for field in fields:\n",
    "                data = tr.select(\"td.calendar__cell.calendar__{}.{}\".format(field,field))[0]\n",
    "                # print(data)\n",
    "                if field==\"date\" and data.text.strip()!=\"\":\n",
    "                    curr_date = data.text.strip()\n",
    "                elif field==\"time\" and data.text.strip()!=\"\":\n",
    "                    # time is sometimes \"All Day\" or \"Day X\" (eg. WEF Annual Meetings)\n",
    "                    if data.text.strip().find(\"Day\")!=-1:\n",
    "                        curr_time = \"12:00am\"\n",
    "                    else:\n",
    "                        curr_time = data.text.strip()\n",
    "                elif field==\"currency\":\n",
    "                    currency = data.text.strip()\n",
    "                elif field==\"impact\":\n",
    "                    # when impact says \"Non-Economic\" on mouseover, the relevant\n",
    "                    # class name is \"Holiday\", thus we do not use the classname\n",
    "                    impact = data.find(\"span\")[\"title\"]\n",
    "                elif field==\"event\":\n",
    "                    event = data.text.strip()\n",
    "                elif field==\"actual\":\n",
    "                    actual = data.text.strip()\n",
    "                elif field==\"forecast\":\n",
    "                    forecast = data.text.strip()\n",
    "                elif field==\"previous\":\n",
    "                    previous = data.text.strip()\n",
    "\n",
    "            date = datetime.datetime.strptime(\",\".join([curr_year,curr_date,curr_time]),\"%Y,%a%b %d,%I:%M%p\")\n",
    "            # date = datetime.datetime.strptime(\",\".join([curr_year,curr_date,curr_time]),\"%Y,%a%b %d,%I:%M%p\")\n",
    "            # date = datetime.datetime.strptime(\",\".join([curr_year,curr_date]),\"%Y,%a%b\")\n",
    "            # time = datetime.datetime.strptime(curr_time, \"%d,%I:%M%p\")\n",
    "\n",
    "            dict[\"Date\"] = date.strftime(\"%Y-%m-%d %H:%M:%S\")\n",
    "            dict[\"Currency\"] = currency\n",
    "            dict[\"Impact\"] = impact\n",
    "            dict[\"Event\"] = event\n",
    "            dict[\"Actual\"] = actual\n",
    "            dict[\"Forecast\"] = forecast\n",
    "            dict[\"Previous\"] = previous\n",
    "\n",
    "\n",
    "            forcal.append(dict)\n",
    "            # forcal.append(\",\".join([str(dt),currency,impact,event,actual,forecast,previous]))\n",
    "\n",
    "\n",
    "        except:\n",
    "            with open(\"errors.csv\",\"a\") as f:\n",
    "                csv.writer(f).writerow([curr_year,curr_date,curr_time])\n",
    "\n",
    "    # exit recursion when last available link has reached\n",
    "    if startlink==endlink:\n",
    "        logging.info(\"Successfully retrieved data\")\n",
    "        return\n",
    "\n",
    "    # get the link for the next week and follow\n",
    "    follow = soup.select(\"a.calendar__pagination.calendar__pagination--next.next\")\n",
    "    follow = follow[0][\"href\"]\n",
    "    getEconomicCalendar(follow,endlink)"
   ]
  },
  {
   "cell_type": "markdown",
   "metadata": {},
   "source": [
    "Original idea\n",
    " - https://gist.github.com/pohzipohzi/ad7942fc5545675022c1f31123e64c0c"
   ]
  },
  {
   "cell_type": "markdown",
   "metadata": {},
   "source": [
    "# Initialize function"
   ]
  },
  {
   "cell_type": "code",
   "execution_count": 3,
   "metadata": {},
   "outputs": [
    {
     "name": "stderr",
     "output_type": "stream",
     "text": [
      "2020-04-27 19:56:16,658 - INFO - Scraping data for link: calendar?day=mar01.2020\n",
      "2020-04-27 19:56:17,722 - INFO - Scraping data for link: calendar?day=mar2.2020\n",
      "2020-04-27 19:56:18,669 - INFO - Scraping data for link: calendar?day=mar3.2020\n",
      "2020-04-27 19:56:19,690 - INFO - Scraping data for link: calendar?day=mar4.2020\n",
      "2020-04-27 19:56:20,661 - INFO - Scraping data for link: calendar?day=mar5.2020\n",
      "2020-04-27 19:56:21,636 - INFO - Scraping data for link: calendar?day=mar6.2020\n",
      "2020-04-27 19:56:22,655 - INFO - Scraping data for link: calendar?day=mar7.2020\n",
      "2020-04-27 19:56:23,569 - INFO - Scraping data for link: calendar?day=mar8.2020\n",
      "2020-04-27 19:56:24,460 - INFO - Scraping data for link: calendar?day=mar9.2020\n",
      "2020-04-27 19:56:25,423 - INFO - Scraping data for link: calendar?day=mar10.2020\n",
      "2020-04-27 19:56:26,338 - INFO - Scraping data for link: calendar?day=mar11.2020\n",
      "2020-04-27 19:56:27,396 - INFO - Scraping data for link: calendar?day=mar12.2020\n",
      "2020-04-27 19:56:28,526 - INFO - Scraping data for link: calendar?day=mar13.2020\n",
      "2020-04-27 19:56:29,457 - INFO - Scraping data for link: calendar?day=mar14.2020\n",
      "2020-04-27 19:56:30,463 - INFO - Scraping data for link: calendar?day=mar15.2020\n",
      "2020-04-27 19:56:31,425 - INFO - Scraping data for link: calendar?day=mar16.2020\n",
      "2020-04-27 19:56:32,357 - INFO - Scraping data for link: calendar?day=mar17.2020\n",
      "2020-04-27 19:56:33,376 - INFO - Scraping data for link: calendar?day=mar18.2020\n",
      "2020-04-27 19:56:34,370 - INFO - Scraping data for link: calendar?day=mar19.2020\n",
      "2020-04-27 19:56:35,420 - INFO - Scraping data for link: calendar?day=mar20.2020\n",
      "2020-04-27 19:56:36,560 - INFO - Scraping data for link: calendar?day=mar21.2020\n",
      "2020-04-27 19:56:37,446 - INFO - Scraping data for link: calendar?day=mar22.2020\n",
      "2020-04-27 19:56:38,319 - INFO - Scraping data for link: calendar?day=mar23.2020\n",
      "2020-04-27 19:56:39,262 - INFO - Scraping data for link: calendar?day=mar24.2020\n",
      "2020-04-27 19:56:40,218 - INFO - Scraping data for link: calendar?day=mar25.2020\n",
      "2020-04-27 19:56:41,157 - INFO - Scraping data for link: calendar?day=mar26.2020\n",
      "2020-04-27 19:56:42,128 - INFO - Scraping data for link: calendar?day=mar27.2020\n",
      "2020-04-27 19:56:43,072 - INFO - Scraping data for link: calendar?day=mar28.2020\n",
      "2020-04-27 19:56:44,052 - INFO - Scraping data for link: calendar?day=mar29.2020\n",
      "2020-04-27 19:56:44,954 - INFO - Scraping data for link: calendar?day=mar30.2020\n",
      "2020-04-27 19:56:45,945 - INFO - Scraping data for link: calendar?day=mar31.2020\n",
      "2020-04-27 19:56:46,974 - INFO - Scraping data for link: calendar?day=apr1.2020\n",
      "2020-04-27 19:56:47,948 - INFO - Scraping data for link: calendar?day=apr2.2020\n",
      "2020-04-27 19:56:48,871 - INFO - Scraping data for link: calendar?day=apr3.2020\n",
      "2020-04-27 19:56:49,828 - INFO - Scraping data for link: calendar?day=apr4.2020\n",
      "2020-04-27 19:56:50,743 - INFO - Scraping data for link: calendar?day=apr5.2020\n",
      "2020-04-27 19:56:51,622 - INFO - Scraping data for link: calendar?day=apr6.2020\n",
      "2020-04-27 19:56:52,575 - INFO - Scraping data for link: calendar?day=apr7.2020\n",
      "2020-04-27 19:56:53,614 - INFO - Scraping data for link: calendar?day=apr8.2020\n",
      "2020-04-27 19:56:54,539 - INFO - Scraping data for link: calendar?day=apr9.2020\n",
      "2020-04-27 19:56:55,563 - INFO - Scraping data for link: calendar?day=apr10.2020\n",
      "2020-04-27 19:56:56,507 - INFO - Scraping data for link: calendar?day=apr11.2020\n",
      "2020-04-27 19:56:57,406 - INFO - Scraping data for link: calendar?day=apr12.2020\n",
      "2020-04-27 19:56:58,298 - INFO - Scraping data for link: calendar?day=apr13.2020\n",
      "2020-04-27 19:56:59,196 - INFO - Scraping data for link: calendar?day=apr14.2020\n",
      "2020-04-27 19:57:00,101 - INFO - Scraping data for link: calendar?day=apr15.2020\n",
      "2020-04-27 19:57:01,075 - INFO - Scraping data for link: calendar?day=apr16.2020\n",
      "2020-04-27 19:57:02,055 - INFO - Scraping data for link: calendar?day=apr17.2020\n",
      "2020-04-27 19:57:02,998 - INFO - Scraping data for link: calendar?day=apr18.2020\n",
      "2020-04-27 19:57:03,907 - INFO - Scraping data for link: calendar?day=apr19.2020\n",
      "2020-04-27 19:57:04,807 - INFO - Scraping data for link: calendar?day=apr20.2020\n",
      "2020-04-27 19:57:05,808 - INFO - Scraping data for link: calendar?day=apr21.2020\n",
      "2020-04-27 19:57:06,740 - INFO - Scraping data for link: calendar?day=apr22.2020\n",
      "2020-04-27 19:57:07,735 - INFO - Scraping data for link: calendar?day=apr23.2020\n",
      "2020-04-27 19:57:08,690 - INFO - Scraping data for link: calendar?day=apr24.2020\n",
      "2020-04-27 19:57:09,633 - INFO - Scraping data for link: calendar?day=apr25.2020\n",
      "2020-04-27 19:57:10,524 - INFO - Successfully retrieved data\n"
     ]
    }
   ],
   "source": [
    "setLogger()\n",
    "getEconomicCalendar(\"calendar?day=mar01.2020\",\"calendar?day=apr25.2020\")"
   ]
  },
  {
   "cell_type": "markdown",
   "metadata": {},
   "source": [
    "# Creating dataframe"
   ]
  },
  {
   "cell_type": "code",
   "execution_count": 4,
   "metadata": {},
   "outputs": [
    {
     "data": {
      "text/html": [
       "<div>\n",
       "<style scoped>\n",
       "    .dataframe tbody tr th:only-of-type {\n",
       "        vertical-align: middle;\n",
       "    }\n",
       "\n",
       "    .dataframe tbody tr th {\n",
       "        vertical-align: top;\n",
       "    }\n",
       "\n",
       "    .dataframe thead th {\n",
       "        text-align: right;\n",
       "    }\n",
       "</style>\n",
       "<table border=\"1\" class=\"dataframe\">\n",
       "  <thead>\n",
       "    <tr style=\"text-align: right;\">\n",
       "      <th></th>\n",
       "      <th>Date</th>\n",
       "      <th>Currency</th>\n",
       "      <th>Impact</th>\n",
       "      <th>Event</th>\n",
       "      <th>Actual</th>\n",
       "      <th>Forecast</th>\n",
       "      <th>Previous</th>\n",
       "    </tr>\n",
       "  </thead>\n",
       "  <tbody>\n",
       "    <tr>\n",
       "      <th>0</th>\n",
       "      <td>2020-03-01 17:30:00</td>\n",
       "      <td>AUD</td>\n",
       "      <td>Low Impact Expected</td>\n",
       "      <td>AIG Manufacturing Index</td>\n",
       "      <td>44.3</td>\n",
       "      <td></td>\n",
       "      <td>45.4</td>\n",
       "    </tr>\n",
       "    <tr>\n",
       "      <th>1</th>\n",
       "      <td>2020-03-01 17:45:00</td>\n",
       "      <td>NZD</td>\n",
       "      <td>Low Impact Expected</td>\n",
       "      <td>Overseas Trade Index q/q</td>\n",
       "      <td>2.6%</td>\n",
       "      <td>0.8%</td>\n",
       "      <td>1.7%</td>\n",
       "    </tr>\n",
       "    <tr>\n",
       "      <th>2</th>\n",
       "      <td>2020-03-01 19:50:00</td>\n",
       "      <td>JPY</td>\n",
       "      <td>Low Impact Expected</td>\n",
       "      <td>Capital Spending q/y</td>\n",
       "      <td>-3.5%</td>\n",
       "      <td>-2.5%</td>\n",
       "      <td>7.1%</td>\n",
       "    </tr>\n",
       "    <tr>\n",
       "      <th>3</th>\n",
       "      <td>2020-03-01 20:00:00</td>\n",
       "      <td>AUD</td>\n",
       "      <td>Low Impact Expected</td>\n",
       "      <td>MI Inflation Gauge m/m</td>\n",
       "      <td>-0.1%</td>\n",
       "      <td></td>\n",
       "      <td>0.3%</td>\n",
       "    </tr>\n",
       "    <tr>\n",
       "      <th>4</th>\n",
       "      <td>2020-03-01 20:30:00</td>\n",
       "      <td>AUD</td>\n",
       "      <td>Medium Impact Expected</td>\n",
       "      <td>Company Operating Profits q/q</td>\n",
       "      <td>-3.5%</td>\n",
       "      <td>-1.2%</td>\n",
       "      <td>-0.6%</td>\n",
       "    </tr>\n",
       "    <tr>\n",
       "      <th>...</th>\n",
       "      <td>...</td>\n",
       "      <td>...</td>\n",
       "      <td>...</td>\n",
       "      <td>...</td>\n",
       "      <td>...</td>\n",
       "      <td>...</td>\n",
       "      <td>...</td>\n",
       "    </tr>\n",
       "    <tr>\n",
       "      <th>746</th>\n",
       "      <td>2020-04-24 08:30:00</td>\n",
       "      <td>USD</td>\n",
       "      <td>Medium Impact Expected</td>\n",
       "      <td>Durable Goods Orders m/m</td>\n",
       "      <td>-14.4%</td>\n",
       "      <td>-12.0%</td>\n",
       "      <td>1.1%</td>\n",
       "    </tr>\n",
       "    <tr>\n",
       "      <th>747</th>\n",
       "      <td>2020-04-24 08:57:00</td>\n",
       "      <td>EUR</td>\n",
       "      <td>Low Impact Expected</td>\n",
       "      <td>Belgian NBB Business Climate</td>\n",
       "      <td>-36.1</td>\n",
       "      <td>-21.0</td>\n",
       "      <td>-10.9</td>\n",
       "    </tr>\n",
       "    <tr>\n",
       "      <th>748</th>\n",
       "      <td>2020-04-24 10:00:00</td>\n",
       "      <td>USD</td>\n",
       "      <td>Low Impact Expected</td>\n",
       "      <td>Revised UoM Consumer Sentiment</td>\n",
       "      <td>71.8</td>\n",
       "      <td>67.8</td>\n",
       "      <td>71.0</td>\n",
       "    </tr>\n",
       "    <tr>\n",
       "      <th>749</th>\n",
       "      <td>2020-04-24 10:00:00</td>\n",
       "      <td>USD</td>\n",
       "      <td>Low Impact Expected</td>\n",
       "      <td>Revised UoM Inflation Expectations</td>\n",
       "      <td>2.1%</td>\n",
       "      <td></td>\n",
       "      <td>2.1%</td>\n",
       "    </tr>\n",
       "    <tr>\n",
       "      <th>750</th>\n",
       "      <td>2020-04-24 17:40:00</td>\n",
       "      <td>USD</td>\n",
       "      <td>High Impact Expected</td>\n",
       "      <td>President Trump Speaks</td>\n",
       "      <td></td>\n",
       "      <td></td>\n",
       "      <td></td>\n",
       "    </tr>\n",
       "  </tbody>\n",
       "</table>\n",
       "<p>751 rows × 7 columns</p>\n",
       "</div>"
      ],
      "text/plain": [
       "                    Date Currency                  Impact  \\\n",
       "0    2020-03-01 17:30:00      AUD     Low Impact Expected   \n",
       "1    2020-03-01 17:45:00      NZD     Low Impact Expected   \n",
       "2    2020-03-01 19:50:00      JPY     Low Impact Expected   \n",
       "3    2020-03-01 20:00:00      AUD     Low Impact Expected   \n",
       "4    2020-03-01 20:30:00      AUD  Medium Impact Expected   \n",
       "..                   ...      ...                     ...   \n",
       "746  2020-04-24 08:30:00      USD  Medium Impact Expected   \n",
       "747  2020-04-24 08:57:00      EUR     Low Impact Expected   \n",
       "748  2020-04-24 10:00:00      USD     Low Impact Expected   \n",
       "749  2020-04-24 10:00:00      USD     Low Impact Expected   \n",
       "750  2020-04-24 17:40:00      USD    High Impact Expected   \n",
       "\n",
       "                                  Event  Actual Forecast Previous  \n",
       "0               AIG Manufacturing Index    44.3              45.4  \n",
       "1              Overseas Trade Index q/q    2.6%     0.8%     1.7%  \n",
       "2                  Capital Spending q/y   -3.5%    -2.5%     7.1%  \n",
       "3                MI Inflation Gauge m/m   -0.1%              0.3%  \n",
       "4         Company Operating Profits q/q   -3.5%    -1.2%    -0.6%  \n",
       "..                                  ...     ...      ...      ...  \n",
       "746            Durable Goods Orders m/m  -14.4%   -12.0%     1.1%  \n",
       "747        Belgian NBB Business Climate   -36.1    -21.0    -10.9  \n",
       "748      Revised UoM Consumer Sentiment    71.8     67.8     71.0  \n",
       "749  Revised UoM Inflation Expectations    2.1%              2.1%  \n",
       "750              President Trump Speaks                            \n",
       "\n",
       "[751 rows x 7 columns]"
      ]
     },
     "execution_count": 4,
     "metadata": {},
     "output_type": "execute_result"
    }
   ],
   "source": [
    "df = pd.DataFrame(forcal)\n",
    "df"
   ]
  },
  {
   "cell_type": "code",
   "execution_count": 5,
   "metadata": {},
   "outputs": [
    {
     "name": "stdout",
     "output_type": "stream",
     "text": [
      "<class 'pandas.core.frame.DataFrame'>\n",
      "RangeIndex: 751 entries, 0 to 750\n",
      "Data columns (total 7 columns):\n",
      "Date        751 non-null object\n",
      "Currency    751 non-null object\n",
      "Impact      751 non-null object\n",
      "Event       751 non-null object\n",
      "Actual      751 non-null object\n",
      "Forecast    751 non-null object\n",
      "Previous    751 non-null object\n",
      "dtypes: object(7)\n",
      "memory usage: 41.2+ KB\n"
     ]
    }
   ],
   "source": [
    "df.info()"
   ]
  },
  {
   "cell_type": "code",
   "execution_count": 6,
   "metadata": {},
   "outputs": [],
   "source": [
    "import numpy as np"
   ]
  },
  {
   "cell_type": "markdown",
   "metadata": {},
   "source": [
    "# Creating surprises column"
   ]
  },
  {
   "cell_type": "markdown",
   "metadata": {},
   "source": [
    "- Dropping missing values rows"
   ]
  },
  {
   "cell_type": "code",
   "execution_count": 7,
   "metadata": {},
   "outputs": [
    {
     "data": {
      "text/plain": [
       "Date        0\n",
       "Currency    0\n",
       "Impact      0\n",
       "Event       0\n",
       "Actual      0\n",
       "Forecast    0\n",
       "Previous    0\n",
       "dtype: int64"
      ]
     },
     "execution_count": 7,
     "metadata": {},
     "output_type": "execute_result"
    }
   ],
   "source": [
    "df.isnull().sum()"
   ]
  },
  {
   "cell_type": "code",
   "execution_count": 8,
   "metadata": {},
   "outputs": [],
   "source": [
    "def missing_values_to_nan(column_name):\n",
    "    return df[column_name].replace('', np.nan, inplace=True)\n",
    "\n",
    "missing_values_to_nan('Forecast')\n",
    "missing_values_to_nan('Actual')\n",
    "missing_values_to_nan('Previous')"
   ]
  },
  {
   "cell_type": "code",
   "execution_count": 9,
   "metadata": {},
   "outputs": [
    {
     "data": {
      "text/plain": [
       "Date          0\n",
       "Currency      0\n",
       "Impact        0\n",
       "Event         0\n",
       "Actual      170\n",
       "Forecast    296\n",
       "Previous    170\n",
       "dtype: int64"
      ]
     },
     "execution_count": 9,
     "metadata": {},
     "output_type": "execute_result"
    }
   ],
   "source": [
    "df.isnull().sum()"
   ]
  },
  {
   "cell_type": "code",
   "execution_count": 10,
   "metadata": {},
   "outputs": [],
   "source": [
    "def drop_nan(column_name):\n",
    "    return df.dropna(subset=[column_name], inplace=True)\n",
    "\n",
    "drop_nan('Forecast')"
   ]
  },
  {
   "cell_type": "code",
   "execution_count": 11,
   "metadata": {},
   "outputs": [
    {
     "data": {
      "text/plain": [
       "Date        0\n",
       "Currency    0\n",
       "Impact      0\n",
       "Event       0\n",
       "Actual      0\n",
       "Forecast    0\n",
       "Previous    0\n",
       "dtype: int64"
      ]
     },
     "execution_count": 11,
     "metadata": {},
     "output_type": "execute_result"
    }
   ],
   "source": [
    "df.isnull().sum()\n"
   ]
  },
  {
   "cell_type": "markdown",
   "metadata": {},
   "source": [
    "- Checking data types"
   ]
  },
  {
   "cell_type": "code",
   "execution_count": 12,
   "metadata": {},
   "outputs": [
    {
     "data": {
      "text/plain": [
       "Date        object\n",
       "Currency    object\n",
       "Impact      object\n",
       "Event       object\n",
       "Actual      object\n",
       "Forecast    object\n",
       "Previous    object\n",
       "dtype: object"
      ]
     },
     "execution_count": 12,
     "metadata": {},
     "output_type": "execute_result"
    }
   ],
   "source": [
    "df.dtypes"
   ]
  },
  {
   "cell_type": "markdown",
   "metadata": {},
   "source": [
    "- Converting from object to float"
   ]
  },
  {
   "cell_type": "code",
   "execution_count": 13,
   "metadata": {},
   "outputs": [
    {
     "data": {
      "text/plain": [
       "1      0.8%\n",
       "2     -2.5%\n",
       "4     -1.2%\n",
       "6      47.6\n",
       "7      46.1\n",
       "9      48.9\n",
       "10     47.9\n",
       "11     48.0\n",
       "12     49.7\n",
       "13     47.8\n",
       "14     49.1\n",
       "15     51.9\n",
       "16     0.2%\n",
       "17      68K\n",
       "18     5.9B\n",
       "20     50.8\n",
       "21     50.5\n",
       "22     0.6%\n",
       "23     51.2\n",
       "24     3.0%\n",
       "Name: Forecast, dtype: object"
      ]
     },
     "execution_count": 13,
     "metadata": {},
     "output_type": "execute_result"
    }
   ],
   "source": [
    "df['Forecast'].head(20)"
   ]
  },
  {
   "cell_type": "code",
   "execution_count": 14,
   "metadata": {},
   "outputs": [],
   "source": [
    "df['Forecast'] = df.Forecast.str.replace('%', '').str.replace('K', '').str.replace('B', '').str.replace('M', '').str.replace('T', '').str.replace('-', '').astype(float)\n",
    "df['Actual'] = df.Actual.str.replace('%', '').str.replace('K', '').str.replace('B', '').str.replace('M', '').str.replace('T', '').str.replace('-', '').astype(float)\n",
    "df['Previous'] = df.Previous.str.replace('%', '').str.replace('K', '').str.replace('B', '').str.replace('M', '').str.replace('T', '').str.replace('-', '').astype(float)"
   ]
  },
  {
   "cell_type": "code",
   "execution_count": 15,
   "metadata": {},
   "outputs": [
    {
     "data": {
      "text/plain": [
       "1      0.8\n",
       "2      2.5\n",
       "4      1.2\n",
       "6     47.6\n",
       "7     46.1\n",
       "9     48.9\n",
       "10    47.9\n",
       "11    48.0\n",
       "12    49.7\n",
       "13    47.8\n",
       "14    49.1\n",
       "15    51.9\n",
       "16     0.2\n",
       "17    68.0\n",
       "18     5.9\n",
       "20    50.8\n",
       "21    50.5\n",
       "22     0.6\n",
       "23    51.2\n",
       "24     3.0\n",
       "Name: Forecast, dtype: float64"
      ]
     },
     "execution_count": 15,
     "metadata": {},
     "output_type": "execute_result"
    }
   ],
   "source": [
    "df['Forecast'].head(20)"
   ]
  },
  {
   "cell_type": "code",
   "execution_count": 17,
   "metadata": {},
   "outputs": [],
   "source": [
    "df['Date'] =  pd.to_datetime(df['Date'], format='%Y-%m-%d %H:%M:%S.%f')"
   ]
  },
  {
   "cell_type": "code",
   "execution_count": 28,
   "metadata": {},
   "outputs": [
    {
     "data": {
      "text/html": [
       "<div>\n",
       "<style scoped>\n",
       "    .dataframe tbody tr th:only-of-type {\n",
       "        vertical-align: middle;\n",
       "    }\n",
       "\n",
       "    .dataframe tbody tr th {\n",
       "        vertical-align: top;\n",
       "    }\n",
       "\n",
       "    .dataframe thead th {\n",
       "        text-align: right;\n",
       "    }\n",
       "</style>\n",
       "<table border=\"1\" class=\"dataframe\">\n",
       "  <thead>\n",
       "    <tr style=\"text-align: right;\">\n",
       "      <th></th>\n",
       "      <th>Date</th>\n",
       "      <th>Currency</th>\n",
       "      <th>Impact</th>\n",
       "      <th>Event</th>\n",
       "      <th>Actual</th>\n",
       "      <th>Forecast</th>\n",
       "      <th>Previous</th>\n",
       "      <th>Day</th>\n",
       "    </tr>\n",
       "  </thead>\n",
       "  <tbody>\n",
       "    <tr>\n",
       "      <th>1</th>\n",
       "      <td>2020-03-01 17:45:00</td>\n",
       "      <td>NZD</td>\n",
       "      <td>Low Impact Expected</td>\n",
       "      <td>Overseas Trade Index q/q</td>\n",
       "      <td>2.6</td>\n",
       "      <td>0.8</td>\n",
       "      <td>1.7</td>\n",
       "      <td>1</td>\n",
       "    </tr>\n",
       "    <tr>\n",
       "      <th>2</th>\n",
       "      <td>2020-03-01 19:50:00</td>\n",
       "      <td>JPY</td>\n",
       "      <td>Low Impact Expected</td>\n",
       "      <td>Capital Spending q/y</td>\n",
       "      <td>3.5</td>\n",
       "      <td>2.5</td>\n",
       "      <td>7.1</td>\n",
       "      <td>1</td>\n",
       "    </tr>\n",
       "    <tr>\n",
       "      <th>4</th>\n",
       "      <td>2020-03-01 20:30:00</td>\n",
       "      <td>AUD</td>\n",
       "      <td>Medium Impact Expected</td>\n",
       "      <td>Company Operating Profits q/q</td>\n",
       "      <td>3.5</td>\n",
       "      <td>1.2</td>\n",
       "      <td>0.6</td>\n",
       "      <td>1</td>\n",
       "    </tr>\n",
       "    <tr>\n",
       "      <th>6</th>\n",
       "      <td>2020-03-01 20:30:00</td>\n",
       "      <td>JPY</td>\n",
       "      <td>Low Impact Expected</td>\n",
       "      <td>Final Manufacturing PMI</td>\n",
       "      <td>47.8</td>\n",
       "      <td>47.6</td>\n",
       "      <td>47.6</td>\n",
       "      <td>1</td>\n",
       "    </tr>\n",
       "    <tr>\n",
       "      <th>7</th>\n",
       "      <td>2020-03-01 21:45:00</td>\n",
       "      <td>CNY</td>\n",
       "      <td>High Impact Expected</td>\n",
       "      <td>Caixin Manufacturing PMI</td>\n",
       "      <td>40.3</td>\n",
       "      <td>46.1</td>\n",
       "      <td>51.1</td>\n",
       "      <td>1</td>\n",
       "    </tr>\n",
       "    <tr>\n",
       "      <th>...</th>\n",
       "      <td>...</td>\n",
       "      <td>...</td>\n",
       "      <td>...</td>\n",
       "      <td>...</td>\n",
       "      <td>...</td>\n",
       "      <td>...</td>\n",
       "      <td>...</td>\n",
       "      <td>...</td>\n",
       "    </tr>\n",
       "    <tr>\n",
       "      <th>744</th>\n",
       "      <td>2020-04-24 04:00:00</td>\n",
       "      <td>EUR</td>\n",
       "      <td>High Impact Expected</td>\n",
       "      <td>German ifo Business Climate</td>\n",
       "      <td>74.3</td>\n",
       "      <td>79.8</td>\n",
       "      <td>85.9</td>\n",
       "      <td>24</td>\n",
       "    </tr>\n",
       "    <tr>\n",
       "      <th>745</th>\n",
       "      <td>2020-04-24 08:30:00</td>\n",
       "      <td>USD</td>\n",
       "      <td>High Impact Expected</td>\n",
       "      <td>Core Durable Goods Orders m/m</td>\n",
       "      <td>0.2</td>\n",
       "      <td>6.1</td>\n",
       "      <td>0.7</td>\n",
       "      <td>24</td>\n",
       "    </tr>\n",
       "    <tr>\n",
       "      <th>746</th>\n",
       "      <td>2020-04-24 08:30:00</td>\n",
       "      <td>USD</td>\n",
       "      <td>Medium Impact Expected</td>\n",
       "      <td>Durable Goods Orders m/m</td>\n",
       "      <td>14.4</td>\n",
       "      <td>12.0</td>\n",
       "      <td>1.1</td>\n",
       "      <td>24</td>\n",
       "    </tr>\n",
       "    <tr>\n",
       "      <th>747</th>\n",
       "      <td>2020-04-24 08:57:00</td>\n",
       "      <td>EUR</td>\n",
       "      <td>Low Impact Expected</td>\n",
       "      <td>Belgian NBB Business Climate</td>\n",
       "      <td>36.1</td>\n",
       "      <td>21.0</td>\n",
       "      <td>10.9</td>\n",
       "      <td>24</td>\n",
       "    </tr>\n",
       "    <tr>\n",
       "      <th>748</th>\n",
       "      <td>2020-04-24 10:00:00</td>\n",
       "      <td>USD</td>\n",
       "      <td>Low Impact Expected</td>\n",
       "      <td>Revised UoM Consumer Sentiment</td>\n",
       "      <td>71.8</td>\n",
       "      <td>67.8</td>\n",
       "      <td>71.0</td>\n",
       "      <td>24</td>\n",
       "    </tr>\n",
       "  </tbody>\n",
       "</table>\n",
       "<p>455 rows × 8 columns</p>\n",
       "</div>"
      ],
      "text/plain": [
       "                   Date Currency                  Impact  \\\n",
       "1   2020-03-01 17:45:00      NZD     Low Impact Expected   \n",
       "2   2020-03-01 19:50:00      JPY     Low Impact Expected   \n",
       "4   2020-03-01 20:30:00      AUD  Medium Impact Expected   \n",
       "6   2020-03-01 20:30:00      JPY     Low Impact Expected   \n",
       "7   2020-03-01 21:45:00      CNY    High Impact Expected   \n",
       "..                  ...      ...                     ...   \n",
       "744 2020-04-24 04:00:00      EUR    High Impact Expected   \n",
       "745 2020-04-24 08:30:00      USD    High Impact Expected   \n",
       "746 2020-04-24 08:30:00      USD  Medium Impact Expected   \n",
       "747 2020-04-24 08:57:00      EUR     Low Impact Expected   \n",
       "748 2020-04-24 10:00:00      USD     Low Impact Expected   \n",
       "\n",
       "                              Event  Actual  Forecast  Previous  Day  \n",
       "1          Overseas Trade Index q/q     2.6       0.8       1.7    1  \n",
       "2              Capital Spending q/y     3.5       2.5       7.1    1  \n",
       "4     Company Operating Profits q/q     3.5       1.2       0.6    1  \n",
       "6           Final Manufacturing PMI    47.8      47.6      47.6    1  \n",
       "7          Caixin Manufacturing PMI    40.3      46.1      51.1    1  \n",
       "..                              ...     ...       ...       ...  ...  \n",
       "744     German ifo Business Climate    74.3      79.8      85.9   24  \n",
       "745   Core Durable Goods Orders m/m     0.2       6.1       0.7   24  \n",
       "746        Durable Goods Orders m/m    14.4      12.0       1.1   24  \n",
       "747    Belgian NBB Business Climate    36.1      21.0      10.9   24  \n",
       "748  Revised UoM Consumer Sentiment    71.8      67.8      71.0   24  \n",
       "\n",
       "[455 rows x 8 columns]"
      ]
     },
     "execution_count": 28,
     "metadata": {},
     "output_type": "execute_result"
    }
   ],
   "source": [
    "# df['Day'] = pd.DatetimeIndex(df['Date']).day\n",
    "# df"
   ]
  },
  {
   "cell_type": "code",
   "execution_count": 29,
   "metadata": {},
   "outputs": [
    {
     "data": {
      "text/plain": [
       "Date        datetime64[ns]\n",
       "Currency            object\n",
       "Impact              object\n",
       "Event               object\n",
       "Actual             float64\n",
       "Forecast           float64\n",
       "Previous           float64\n",
       "Day                  int64\n",
       "dtype: object"
      ]
     },
     "execution_count": 29,
     "metadata": {},
     "output_type": "execute_result"
    }
   ],
   "source": [
    "df.dtypes"
   ]
  },
  {
   "cell_type": "code",
   "execution_count": 39,
   "metadata": {},
   "outputs": [
    {
     "data": {
      "text/html": [
       "<div>\n",
       "<style scoped>\n",
       "    .dataframe tbody tr th:only-of-type {\n",
       "        vertical-align: middle;\n",
       "    }\n",
       "\n",
       "    .dataframe tbody tr th {\n",
       "        vertical-align: top;\n",
       "    }\n",
       "\n",
       "    .dataframe thead th {\n",
       "        text-align: right;\n",
       "    }\n",
       "</style>\n",
       "<table border=\"1\" class=\"dataframe\">\n",
       "  <thead>\n",
       "    <tr style=\"text-align: right;\">\n",
       "      <th></th>\n",
       "      <th>Date</th>\n",
       "      <th>Currency</th>\n",
       "      <th>Impact</th>\n",
       "      <th>Event</th>\n",
       "      <th>Actual</th>\n",
       "      <th>Forecast</th>\n",
       "      <th>Previous</th>\n",
       "      <th>Day</th>\n",
       "    </tr>\n",
       "  </thead>\n",
       "  <tbody>\n",
       "    <tr>\n",
       "      <th>12</th>\n",
       "      <td>2020-03-02 04:50:00</td>\n",
       "      <td>EUR</td>\n",
       "      <td>Low Impact Expected</td>\n",
       "      <td>French Final Manufacturing PMI</td>\n",
       "      <td>49.8</td>\n",
       "      <td>49.7</td>\n",
       "      <td>49.7</td>\n",
       "      <td>2</td>\n",
       "    </tr>\n",
       "    <tr>\n",
       "      <th>13</th>\n",
       "      <td>2020-03-02 04:55:00</td>\n",
       "      <td>EUR</td>\n",
       "      <td>Low Impact Expected</td>\n",
       "      <td>German Final Manufacturing PMI</td>\n",
       "      <td>48.0</td>\n",
       "      <td>47.8</td>\n",
       "      <td>47.8</td>\n",
       "      <td>2</td>\n",
       "    </tr>\n",
       "    <tr>\n",
       "      <th>14</th>\n",
       "      <td>2020-03-02 05:00:00</td>\n",
       "      <td>EUR</td>\n",
       "      <td>Low Impact Expected</td>\n",
       "      <td>Final Manufacturing PMI</td>\n",
       "      <td>49.2</td>\n",
       "      <td>49.1</td>\n",
       "      <td>49.1</td>\n",
       "      <td>2</td>\n",
       "    </tr>\n",
       "    <tr>\n",
       "      <th>447</th>\n",
       "      <td>2020-04-01 03:50:00</td>\n",
       "      <td>EUR</td>\n",
       "      <td>Low Impact Expected</td>\n",
       "      <td>French Final Manufacturing PMI</td>\n",
       "      <td>43.2</td>\n",
       "      <td>42.9</td>\n",
       "      <td>42.9</td>\n",
       "      <td>1</td>\n",
       "    </tr>\n",
       "    <tr>\n",
       "      <th>448</th>\n",
       "      <td>2020-04-01 03:55:00</td>\n",
       "      <td>EUR</td>\n",
       "      <td>Low Impact Expected</td>\n",
       "      <td>German Final Manufacturing PMI</td>\n",
       "      <td>45.4</td>\n",
       "      <td>45.6</td>\n",
       "      <td>45.7</td>\n",
       "      <td>1</td>\n",
       "    </tr>\n",
       "    <tr>\n",
       "      <th>449</th>\n",
       "      <td>2020-04-01 04:00:00</td>\n",
       "      <td>EUR</td>\n",
       "      <td>Low Impact Expected</td>\n",
       "      <td>Final Manufacturing PMI</td>\n",
       "      <td>44.5</td>\n",
       "      <td>44.7</td>\n",
       "      <td>44.8</td>\n",
       "      <td>1</td>\n",
       "    </tr>\n",
       "  </tbody>\n",
       "</table>\n",
       "</div>"
      ],
      "text/plain": [
       "                   Date Currency               Impact  \\\n",
       "12  2020-03-02 04:50:00      EUR  Low Impact Expected   \n",
       "13  2020-03-02 04:55:00      EUR  Low Impact Expected   \n",
       "14  2020-03-02 05:00:00      EUR  Low Impact Expected   \n",
       "447 2020-04-01 03:50:00      EUR  Low Impact Expected   \n",
       "448 2020-04-01 03:55:00      EUR  Low Impact Expected   \n",
       "449 2020-04-01 04:00:00      EUR  Low Impact Expected   \n",
       "\n",
       "                              Event  Actual  Forecast  Previous  Day  \n",
       "12   French Final Manufacturing PMI    49.8      49.7      49.7    2  \n",
       "13   German Final Manufacturing PMI    48.0      47.8      47.8    2  \n",
       "14          Final Manufacturing PMI    49.2      49.1      49.1    2  \n",
       "447  French Final Manufacturing PMI    43.2      42.9      42.9    1  \n",
       "448  German Final Manufacturing PMI    45.4      45.6      45.7    1  \n",
       "449         Final Manufacturing PMI    44.5      44.7      44.8    1  "
      ]
     },
     "execution_count": 39,
     "metadata": {},
     "output_type": "execute_result"
    }
   ],
   "source": [
    "def filtration(column_name1, criteria1, column_name2, criteria2):\n",
    "    return df[df[column_name1].str.contains(criteria1) & df[column_name2].str.contains(criteria2)]\n",
    "\n",
    "filtration(\"Event\", \"Final Manufacturing PMI\", \"Currency\", \"EUR\")"
   ]
  },
  {
   "cell_type": "markdown",
   "metadata": {},
   "source": [
    "# Next step import stock index prices..."
   ]
  }
 ],
 "metadata": {
  "kernelspec": {
   "display_name": "Python 3",
   "language": "python",
   "name": "python3"
  },
  "language_info": {
   "codemirror_mode": {
    "name": "ipython",
    "version": 3
   },
   "file_extension": ".py",
   "mimetype": "text/x-python",
   "name": "python",
   "nbconvert_exporter": "python",
   "pygments_lexer": "ipython3",
   "version": "3.7.6"
  }
 },
 "nbformat": 4,
 "nbformat_minor": 2
}
