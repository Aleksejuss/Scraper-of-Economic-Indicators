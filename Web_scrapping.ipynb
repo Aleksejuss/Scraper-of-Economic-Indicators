{
 "cells": [
  {
   "cell_type": "markdown",
   "metadata": {},
   "source": [
    "# Libraries"
   ]
  },
  {
   "cell_type": "code",
   "execution_count": 1,
   "metadata": {},
   "outputs": [],
   "source": [
    "from bs4 import BeautifulSoup\n",
    "import requests\n",
    "import datetime\n",
    "import logging\n",
    "import pandas as pd\n",
    "import csv\n",
    "from sqlalchemy import create_engine\n",
    "import sqlite3"
   ]
  },
  {
   "cell_type": "markdown",
   "metadata": {},
   "source": [
    "# Getting economic news data from forexfactory.com"
   ]
  },
  {
   "cell_type": "markdown",
   "metadata": {},
   "source": [
    "- https://www.forexfactory.com/"
   ]
  },
  {
   "cell_type": "code",
   "execution_count": 2,
   "metadata": {},
   "outputs": [],
   "source": [
    "forcal = []\n",
    "\n",
    "def setLogger():\n",
    "    logging.basicConfig(level=logging.INFO,\n",
    "                    format='%(asctime)s - %(levelname)s - %(message)s',\n",
    "                    filename='logs_file',\n",
    "                    filemode='w')\n",
    "    console = logging.StreamHandler()\n",
    "    formatter = logging.Formatter('%(asctime)s - %(levelname)s - %(message)s')\n",
    "    console.setFormatter(formatter)\n",
    "    logging.getLogger('').addHandler(console)\n",
    "\n",
    "def getEconomicCalendar(startlink,endlink):\n",
    "\n",
    "    # write to console current status\n",
    "    logging.info(\"Scraping data for link: {}\".format(startlink))\n",
    "\n",
    "    # get the page and make the soup\n",
    "    baseURL = \"https://www.forexfactory.com/\"\n",
    "    r = requests.get(baseURL + startlink)\n",
    "    data = r.text\n",
    "    soup = BeautifulSoup(data, \"html.parser\")\n",
    "\n",
    "    # get and parse table data, ignoring details and graph\n",
    "    table = soup.find(\"table\", class_=\"calendar__table\")\n",
    "\n",
    "    # do not use the \".calendar__row--grey\" css selector (reserved for historical data)\n",
    "    trs = table.select(\"tr.calendar__row.calendar_row\")\n",
    "    fields = [\"date\",\"time\",\"currency\",\"impact\",\"event\",\"actual\",\"forecast\",\"previous\"]\n",
    "\n",
    "    # some rows do not have a date (cells merged)\n",
    "    curr_year = startlink[-4:]\n",
    "    curr_date = \"\"\n",
    "    curr_time = \"\"\n",
    "    for tr in trs:\n",
    "        dict = {}\n",
    "\n",
    "        # fields may mess up sometimes, see Tue Sep 25 2:45AM French Consumer Spending\n",
    "        # in that case we append to errors.csv the date time where the error is\n",
    "        try:\n",
    "            for field in fields:\n",
    "                data = tr.select(\"td.calendar__cell.calendar__{}.{}\".format(field,field))[0]\n",
    "                # print(data)\n",
    "                if field==\"date\" and data.text.strip()!=\"\":\n",
    "                    curr_date = data.text.strip()\n",
    "                elif field==\"time\" and data.text.strip()!=\"\":\n",
    "                    # time is sometimes \"All Day\" or \"Day X\" (eg. WEF Annual Meetings)\n",
    "                    if data.text.strip().find(\"Day\")!=-1:\n",
    "                        curr_time = \"12:00am\"\n",
    "                    else:\n",
    "                        curr_time = data.text.strip()\n",
    "                elif field==\"currency\":\n",
    "                    currency = data.text.strip()\n",
    "                elif field==\"impact\":\n",
    "                    # when impact says \"Non-Economic\" on mouseover, the relevant\n",
    "                    # class name is \"Holiday\", thus we do not use the classname\n",
    "                    impact = data.find(\"span\")[\"title\"]\n",
    "                elif field==\"event\":\n",
    "                    event = data.text.strip()\n",
    "                elif field==\"actual\":\n",
    "                    actual = data.text.strip()\n",
    "                elif field==\"forecast\":\n",
    "                    forecast = data.text.strip()\n",
    "                elif field==\"previous\":\n",
    "                    previous = data.text.strip()\n",
    "\n",
    "            date = datetime.datetime.strptime(\",\".join([curr_year,curr_date,curr_time]),\"%Y,%a%b %d,%I:%M%p\")\n",
    "            # date = datetime.datetime.strptime(\",\".join([curr_year,curr_date,curr_time]),\"%Y,%a%b %d,%I:%M%p\")\n",
    "            # date = datetime.datetime.strptime(\",\".join([curr_year,curr_date]),\"%Y,%a%b\")\n",
    "            # time = datetime.datetime.strptime(curr_time, \"%d,%I:%M%p\")\n",
    "\n",
    "            dict[\"Date\"] = date.strftime(\"%Y-%m-%d %H:%M:%S\")\n",
    "            dict[\"Currency\"] = currency\n",
    "            dict[\"Impact\"] = impact\n",
    "            dict[\"Event\"] = event\n",
    "            dict[\"Actual\"] = actual\n",
    "            dict[\"Forecast\"] = forecast\n",
    "            dict[\"Previous\"] = previous\n",
    "\n",
    "\n",
    "            forcal.append(dict)\n",
    "            # forcal.append(\",\".join([str(dt),currency,impact,event,actual,forecast,previous]))\n",
    "\n",
    "\n",
    "        except:\n",
    "            with open(\"errors.csv\",\"a\") as f:\n",
    "                csv.writer(f).writerow([curr_year,curr_date,curr_time])\n",
    "\n",
    "    # exit recursion when last available link has reached\n",
    "    if startlink==endlink:\n",
    "        logging.info(\"Successfully retrieved data\")\n",
    "        return\n",
    "\n",
    "    # get the link for the next week and follow\n",
    "    follow = soup.select(\"a.calendar__pagination.calendar__pagination--next.next\")\n",
    "    follow = follow[0][\"href\"]\n",
    "    getEconomicCalendar(follow,endlink)"
   ]
  },
  {
   "cell_type": "markdown",
   "metadata": {},
   "source": [
    "Original idea\n",
    " - https://gist.github.com/pohzipohzi/ad7942fc5545675022c1f31123e64c0c"
   ]
  },
  {
   "cell_type": "markdown",
   "metadata": {},
   "source": [
    "# Initialize function"
   ]
  },
  {
   "cell_type": "code",
   "execution_count": 3,
   "metadata": {},
   "outputs": [
    {
     "name": "stderr",
     "output_type": "stream",
     "text": [
      "2020-04-24 20:07:46,531 - INFO - Scraping data for link: calendar?day=apr24.2020\n",
      "2020-04-24 20:07:47,438 - INFO - Successfully retrieved data\n"
     ]
    }
   ],
   "source": [
    "setLogger()\n",
    "getEconomicCalendar(\"calendar?day=apr24.2020\",\"calendar?day=apr24.2020\")"
   ]
  },
  {
   "cell_type": "markdown",
   "metadata": {},
   "source": [
    "# Creating dataframe"
   ]
  },
  {
   "cell_type": "code",
   "execution_count": 4,
   "metadata": {},
   "outputs": [
    {
     "data": {
      "text/html": [
       "<div>\n",
       "<style scoped>\n",
       "    .dataframe tbody tr th:only-of-type {\n",
       "        vertical-align: middle;\n",
       "    }\n",
       "\n",
       "    .dataframe tbody tr th {\n",
       "        vertical-align: top;\n",
       "    }\n",
       "\n",
       "    .dataframe thead th {\n",
       "        text-align: right;\n",
       "    }\n",
       "</style>\n",
       "<table border=\"1\" class=\"dataframe\">\n",
       "  <thead>\n",
       "    <tr style=\"text-align: right;\">\n",
       "      <th></th>\n",
       "      <th>Date</th>\n",
       "      <th>Currency</th>\n",
       "      <th>Impact</th>\n",
       "      <th>Event</th>\n",
       "      <th>Actual</th>\n",
       "      <th>Forecast</th>\n",
       "      <th>Previous</th>\n",
       "    </tr>\n",
       "  </thead>\n",
       "  <tbody>\n",
       "    <tr>\n",
       "      <th>0</th>\n",
       "      <td>2020-04-24 00:30:00</td>\n",
       "      <td>JPY</td>\n",
       "      <td>Low Impact Expected</td>\n",
       "      <td>All Industries Activity m/m</td>\n",
       "      <td>-0.6%</td>\n",
       "      <td>-0.4%</td>\n",
       "      <td>0.6%</td>\n",
       "    </tr>\n",
       "    <tr>\n",
       "      <th>1</th>\n",
       "      <td>2020-04-24 02:00:00</td>\n",
       "      <td>GBP</td>\n",
       "      <td>High Impact Expected</td>\n",
       "      <td>Retail Sales m/m</td>\n",
       "      <td>-5.1%</td>\n",
       "      <td>-4.5%</td>\n",
       "      <td>-0.3%</td>\n",
       "    </tr>\n",
       "    <tr>\n",
       "      <th>2</th>\n",
       "      <td>2020-04-24 04:00:00</td>\n",
       "      <td>EUR</td>\n",
       "      <td>High Impact Expected</td>\n",
       "      <td>German ifo Business Climate</td>\n",
       "      <td>74.3</td>\n",
       "      <td>79.8</td>\n",
       "      <td>85.9</td>\n",
       "    </tr>\n",
       "    <tr>\n",
       "      <th>3</th>\n",
       "      <td>2020-04-24 08:30:00</td>\n",
       "      <td>USD</td>\n",
       "      <td>High Impact Expected</td>\n",
       "      <td>Core Durable Goods Orders m/m</td>\n",
       "      <td>-0.2%</td>\n",
       "      <td>-6.1%</td>\n",
       "      <td>-0.7%</td>\n",
       "    </tr>\n",
       "    <tr>\n",
       "      <th>4</th>\n",
       "      <td>2020-04-24 08:30:00</td>\n",
       "      <td>USD</td>\n",
       "      <td>Medium Impact Expected</td>\n",
       "      <td>Durable Goods Orders m/m</td>\n",
       "      <td>-14.4%</td>\n",
       "      <td>-12.0%</td>\n",
       "      <td>1.1%</td>\n",
       "    </tr>\n",
       "    <tr>\n",
       "      <th>5</th>\n",
       "      <td>2020-04-24 08:57:00</td>\n",
       "      <td>EUR</td>\n",
       "      <td>Low Impact Expected</td>\n",
       "      <td>Belgian NBB Business Climate</td>\n",
       "      <td>-36.1</td>\n",
       "      <td>-21.0</td>\n",
       "      <td>-10.9</td>\n",
       "    </tr>\n",
       "    <tr>\n",
       "      <th>6</th>\n",
       "      <td>2020-04-24 10:00:00</td>\n",
       "      <td>USD</td>\n",
       "      <td>Low Impact Expected</td>\n",
       "      <td>Revised UoM Consumer Sentiment</td>\n",
       "      <td>71.8</td>\n",
       "      <td>67.8</td>\n",
       "      <td>71.0</td>\n",
       "    </tr>\n",
       "    <tr>\n",
       "      <th>7</th>\n",
       "      <td>2020-04-24 10:00:00</td>\n",
       "      <td>USD</td>\n",
       "      <td>Low Impact Expected</td>\n",
       "      <td>Revised UoM Inflation Expectations</td>\n",
       "      <td>2.1%</td>\n",
       "      <td></td>\n",
       "      <td>2.1%</td>\n",
       "    </tr>\n",
       "  </tbody>\n",
       "</table>\n",
       "</div>"
      ],
      "text/plain": [
       "                  Date Currency                  Impact  \\\n",
       "0  2020-04-24 00:30:00      JPY     Low Impact Expected   \n",
       "1  2020-04-24 02:00:00      GBP    High Impact Expected   \n",
       "2  2020-04-24 04:00:00      EUR    High Impact Expected   \n",
       "3  2020-04-24 08:30:00      USD    High Impact Expected   \n",
       "4  2020-04-24 08:30:00      USD  Medium Impact Expected   \n",
       "5  2020-04-24 08:57:00      EUR     Low Impact Expected   \n",
       "6  2020-04-24 10:00:00      USD     Low Impact Expected   \n",
       "7  2020-04-24 10:00:00      USD     Low Impact Expected   \n",
       "\n",
       "                                Event  Actual Forecast Previous  \n",
       "0         All Industries Activity m/m   -0.6%    -0.4%     0.6%  \n",
       "1                    Retail Sales m/m   -5.1%    -4.5%    -0.3%  \n",
       "2         German ifo Business Climate    74.3     79.8     85.9  \n",
       "3       Core Durable Goods Orders m/m   -0.2%    -6.1%    -0.7%  \n",
       "4            Durable Goods Orders m/m  -14.4%   -12.0%     1.1%  \n",
       "5        Belgian NBB Business Climate   -36.1    -21.0    -10.9  \n",
       "6      Revised UoM Consumer Sentiment    71.8     67.8     71.0  \n",
       "7  Revised UoM Inflation Expectations    2.1%              2.1%  "
      ]
     },
     "execution_count": 4,
     "metadata": {},
     "output_type": "execute_result"
    }
   ],
   "source": [
    "df = pd.DataFrame(forcal)\n",
    "df"
   ]
  },
  {
   "cell_type": "code",
   "execution_count": 5,
   "metadata": {},
   "outputs": [],
   "source": [
    "import numpy as np"
   ]
  },
  {
   "cell_type": "markdown",
   "metadata": {},
   "source": [
    "# Creating surprises column"
   ]
  },
  {
   "cell_type": "markdown",
   "metadata": {},
   "source": [
    "- Dropping missing values rows"
   ]
  },
  {
   "cell_type": "code",
   "execution_count": 6,
   "metadata": {},
   "outputs": [
    {
     "data": {
      "text/html": [
       "<div>\n",
       "<style scoped>\n",
       "    .dataframe tbody tr th:only-of-type {\n",
       "        vertical-align: middle;\n",
       "    }\n",
       "\n",
       "    .dataframe tbody tr th {\n",
       "        vertical-align: top;\n",
       "    }\n",
       "\n",
       "    .dataframe thead th {\n",
       "        text-align: right;\n",
       "    }\n",
       "</style>\n",
       "<table border=\"1\" class=\"dataframe\">\n",
       "  <thead>\n",
       "    <tr style=\"text-align: right;\">\n",
       "      <th></th>\n",
       "      <th>Date</th>\n",
       "      <th>Currency</th>\n",
       "      <th>Impact</th>\n",
       "      <th>Event</th>\n",
       "      <th>Actual</th>\n",
       "      <th>Forecast</th>\n",
       "      <th>Previous</th>\n",
       "    </tr>\n",
       "  </thead>\n",
       "  <tbody>\n",
       "    <tr>\n",
       "      <th>0</th>\n",
       "      <td>2020-04-24 00:30:00</td>\n",
       "      <td>JPY</td>\n",
       "      <td>Low Impact Expected</td>\n",
       "      <td>All Industries Activity m/m</td>\n",
       "      <td>-0.6%</td>\n",
       "      <td>-0.4%</td>\n",
       "      <td>0.6%</td>\n",
       "    </tr>\n",
       "    <tr>\n",
       "      <th>1</th>\n",
       "      <td>2020-04-24 02:00:00</td>\n",
       "      <td>GBP</td>\n",
       "      <td>High Impact Expected</td>\n",
       "      <td>Retail Sales m/m</td>\n",
       "      <td>-5.1%</td>\n",
       "      <td>-4.5%</td>\n",
       "      <td>-0.3%</td>\n",
       "    </tr>\n",
       "    <tr>\n",
       "      <th>2</th>\n",
       "      <td>2020-04-24 04:00:00</td>\n",
       "      <td>EUR</td>\n",
       "      <td>High Impact Expected</td>\n",
       "      <td>German ifo Business Climate</td>\n",
       "      <td>74.3</td>\n",
       "      <td>79.8</td>\n",
       "      <td>85.9</td>\n",
       "    </tr>\n",
       "    <tr>\n",
       "      <th>3</th>\n",
       "      <td>2020-04-24 08:30:00</td>\n",
       "      <td>USD</td>\n",
       "      <td>High Impact Expected</td>\n",
       "      <td>Core Durable Goods Orders m/m</td>\n",
       "      <td>-0.2%</td>\n",
       "      <td>-6.1%</td>\n",
       "      <td>-0.7%</td>\n",
       "    </tr>\n",
       "    <tr>\n",
       "      <th>4</th>\n",
       "      <td>2020-04-24 08:30:00</td>\n",
       "      <td>USD</td>\n",
       "      <td>Medium Impact Expected</td>\n",
       "      <td>Durable Goods Orders m/m</td>\n",
       "      <td>-14.4%</td>\n",
       "      <td>-12.0%</td>\n",
       "      <td>1.1%</td>\n",
       "    </tr>\n",
       "    <tr>\n",
       "      <th>5</th>\n",
       "      <td>2020-04-24 08:57:00</td>\n",
       "      <td>EUR</td>\n",
       "      <td>Low Impact Expected</td>\n",
       "      <td>Belgian NBB Business Climate</td>\n",
       "      <td>-36.1</td>\n",
       "      <td>-21.0</td>\n",
       "      <td>-10.9</td>\n",
       "    </tr>\n",
       "    <tr>\n",
       "      <th>6</th>\n",
       "      <td>2020-04-24 10:00:00</td>\n",
       "      <td>USD</td>\n",
       "      <td>Low Impact Expected</td>\n",
       "      <td>Revised UoM Consumer Sentiment</td>\n",
       "      <td>71.8</td>\n",
       "      <td>67.8</td>\n",
       "      <td>71.0</td>\n",
       "    </tr>\n",
       "  </tbody>\n",
       "</table>\n",
       "</div>"
      ],
      "text/plain": [
       "                  Date Currency                  Impact  \\\n",
       "0  2020-04-24 00:30:00      JPY     Low Impact Expected   \n",
       "1  2020-04-24 02:00:00      GBP    High Impact Expected   \n",
       "2  2020-04-24 04:00:00      EUR    High Impact Expected   \n",
       "3  2020-04-24 08:30:00      USD    High Impact Expected   \n",
       "4  2020-04-24 08:30:00      USD  Medium Impact Expected   \n",
       "5  2020-04-24 08:57:00      EUR     Low Impact Expected   \n",
       "6  2020-04-24 10:00:00      USD     Low Impact Expected   \n",
       "\n",
       "                            Event  Actual Forecast Previous  \n",
       "0     All Industries Activity m/m   -0.6%    -0.4%     0.6%  \n",
       "1                Retail Sales m/m   -5.1%    -4.5%    -0.3%  \n",
       "2     German ifo Business Climate    74.3     79.8     85.9  \n",
       "3   Core Durable Goods Orders m/m   -0.2%    -6.1%    -0.7%  \n",
       "4        Durable Goods Orders m/m  -14.4%   -12.0%     1.1%  \n",
       "5    Belgian NBB Business Climate   -36.1    -21.0    -10.9  \n",
       "6  Revised UoM Consumer Sentiment    71.8     67.8     71.0  "
      ]
     },
     "execution_count": 6,
     "metadata": {},
     "output_type": "execute_result"
    }
   ],
   "source": [
    "df['Forecast'].replace('', np.nan, inplace=True)\n",
    "df.dropna(subset=['Forecast'], inplace=True)\n",
    "df"
   ]
  },
  {
   "cell_type": "markdown",
   "metadata": {},
   "source": [
    "- Checking data types"
   ]
  },
  {
   "cell_type": "code",
   "execution_count": 7,
   "metadata": {},
   "outputs": [
    {
     "data": {
      "text/plain": [
       "Date        object\n",
       "Currency    object\n",
       "Impact      object\n",
       "Event       object\n",
       "Actual      object\n",
       "Forecast    object\n",
       "Previous    object\n",
       "dtype: object"
      ]
     },
     "execution_count": 7,
     "metadata": {},
     "output_type": "execute_result"
    }
   ],
   "source": [
    "df.dtypes"
   ]
  },
  {
   "cell_type": "markdown",
   "metadata": {},
   "source": [
    "- Converting from object to float"
   ]
  },
  {
   "cell_type": "code",
   "execution_count": 8,
   "metadata": {},
   "outputs": [],
   "source": [
    "df['Forecast'] = df.Forecast.str.replace('%', '').astype(float)"
   ]
  },
  {
   "cell_type": "code",
   "execution_count": 9,
   "metadata": {},
   "outputs": [],
   "source": [
    "df['Actual'] = df.Actual.str.replace('%', '').astype(float)\n",
    "# df['Actual'] = df['Actual'].astype(str).astype(float)"
   ]
  },
  {
   "cell_type": "code",
   "execution_count": 10,
   "metadata": {},
   "outputs": [
    {
     "data": {
      "text/plain": [
       "Date         object\n",
       "Currency     object\n",
       "Impact       object\n",
       "Event        object\n",
       "Actual      float64\n",
       "Forecast    float64\n",
       "Previous     object\n",
       "dtype: object"
      ]
     },
     "execution_count": 10,
     "metadata": {},
     "output_type": "execute_result"
    }
   ],
   "source": [
    "df.dtypes"
   ]
  },
  {
   "cell_type": "code",
   "execution_count": 11,
   "metadata": {},
   "outputs": [
    {
     "name": "stderr",
     "output_type": "stream",
     "text": [
      "2020-04-24 20:07:47,540 - INFO - Note: NumExpr detected 12 cores but \"NUMEXPR_MAX_THREADS\" not set, so enforcing safe limit of 8.\n",
      "2020-04-24 20:07:47,541 - INFO - NumExpr defaulting to 8 threads.\n"
     ]
    },
    {
     "data": {
      "text/html": [
       "<div>\n",
       "<style scoped>\n",
       "    .dataframe tbody tr th:only-of-type {\n",
       "        vertical-align: middle;\n",
       "    }\n",
       "\n",
       "    .dataframe tbody tr th {\n",
       "        vertical-align: top;\n",
       "    }\n",
       "\n",
       "    .dataframe thead th {\n",
       "        text-align: right;\n",
       "    }\n",
       "</style>\n",
       "<table border=\"1\" class=\"dataframe\">\n",
       "  <thead>\n",
       "    <tr style=\"text-align: right;\">\n",
       "      <th></th>\n",
       "      <th>Date</th>\n",
       "      <th>Currency</th>\n",
       "      <th>Impact</th>\n",
       "      <th>Event</th>\n",
       "      <th>Actual</th>\n",
       "      <th>Forecast</th>\n",
       "      <th>Previous</th>\n",
       "      <th>Surprises</th>\n",
       "    </tr>\n",
       "  </thead>\n",
       "  <tbody>\n",
       "    <tr>\n",
       "      <th>0</th>\n",
       "      <td>2020-04-24 00:30:00</td>\n",
       "      <td>JPY</td>\n",
       "      <td>Low Impact Expected</td>\n",
       "      <td>All Industries Activity m/m</td>\n",
       "      <td>-0.6</td>\n",
       "      <td>-0.4</td>\n",
       "      <td>0.6%</td>\n",
       "      <td>-0.2</td>\n",
       "    </tr>\n",
       "    <tr>\n",
       "      <th>1</th>\n",
       "      <td>2020-04-24 02:00:00</td>\n",
       "      <td>GBP</td>\n",
       "      <td>High Impact Expected</td>\n",
       "      <td>Retail Sales m/m</td>\n",
       "      <td>-5.1</td>\n",
       "      <td>-4.5</td>\n",
       "      <td>-0.3%</td>\n",
       "      <td>-0.6</td>\n",
       "    </tr>\n",
       "    <tr>\n",
       "      <th>2</th>\n",
       "      <td>2020-04-24 04:00:00</td>\n",
       "      <td>EUR</td>\n",
       "      <td>High Impact Expected</td>\n",
       "      <td>German ifo Business Climate</td>\n",
       "      <td>74.3</td>\n",
       "      <td>79.8</td>\n",
       "      <td>85.9</td>\n",
       "      <td>-5.5</td>\n",
       "    </tr>\n",
       "    <tr>\n",
       "      <th>3</th>\n",
       "      <td>2020-04-24 08:30:00</td>\n",
       "      <td>USD</td>\n",
       "      <td>High Impact Expected</td>\n",
       "      <td>Core Durable Goods Orders m/m</td>\n",
       "      <td>-0.2</td>\n",
       "      <td>-6.1</td>\n",
       "      <td>-0.7%</td>\n",
       "      <td>5.9</td>\n",
       "    </tr>\n",
       "    <tr>\n",
       "      <th>4</th>\n",
       "      <td>2020-04-24 08:30:00</td>\n",
       "      <td>USD</td>\n",
       "      <td>Medium Impact Expected</td>\n",
       "      <td>Durable Goods Orders m/m</td>\n",
       "      <td>-14.4</td>\n",
       "      <td>-12.0</td>\n",
       "      <td>1.1%</td>\n",
       "      <td>-2.4</td>\n",
       "    </tr>\n",
       "    <tr>\n",
       "      <th>5</th>\n",
       "      <td>2020-04-24 08:57:00</td>\n",
       "      <td>EUR</td>\n",
       "      <td>Low Impact Expected</td>\n",
       "      <td>Belgian NBB Business Climate</td>\n",
       "      <td>-36.1</td>\n",
       "      <td>-21.0</td>\n",
       "      <td>-10.9</td>\n",
       "      <td>-15.1</td>\n",
       "    </tr>\n",
       "    <tr>\n",
       "      <th>6</th>\n",
       "      <td>2020-04-24 10:00:00</td>\n",
       "      <td>USD</td>\n",
       "      <td>Low Impact Expected</td>\n",
       "      <td>Revised UoM Consumer Sentiment</td>\n",
       "      <td>71.8</td>\n",
       "      <td>67.8</td>\n",
       "      <td>71.0</td>\n",
       "      <td>4.0</td>\n",
       "    </tr>\n",
       "  </tbody>\n",
       "</table>\n",
       "</div>"
      ],
      "text/plain": [
       "                  Date Currency                  Impact  \\\n",
       "0  2020-04-24 00:30:00      JPY     Low Impact Expected   \n",
       "1  2020-04-24 02:00:00      GBP    High Impact Expected   \n",
       "2  2020-04-24 04:00:00      EUR    High Impact Expected   \n",
       "3  2020-04-24 08:30:00      USD    High Impact Expected   \n",
       "4  2020-04-24 08:30:00      USD  Medium Impact Expected   \n",
       "5  2020-04-24 08:57:00      EUR     Low Impact Expected   \n",
       "6  2020-04-24 10:00:00      USD     Low Impact Expected   \n",
       "\n",
       "                            Event  Actual  Forecast Previous  Surprises  \n",
       "0     All Industries Activity m/m    -0.6      -0.4     0.6%       -0.2  \n",
       "1                Retail Sales m/m    -5.1      -4.5    -0.3%       -0.6  \n",
       "2     German ifo Business Climate    74.3      79.8     85.9       -5.5  \n",
       "3   Core Durable Goods Orders m/m    -0.2      -6.1    -0.7%        5.9  \n",
       "4        Durable Goods Orders m/m   -14.4     -12.0     1.1%       -2.4  \n",
       "5    Belgian NBB Business Climate   -36.1     -21.0    -10.9      -15.1  \n",
       "6  Revised UoM Consumer Sentiment    71.8      67.8     71.0        4.0  "
      ]
     },
     "execution_count": 11,
     "metadata": {},
     "output_type": "execute_result"
    }
   ],
   "source": [
    "df[\"Surprises\"] = df[\"Actual\"] - df[\"Forecast\"]\n",
    "df"
   ]
  },
  {
   "cell_type": "markdown",
   "metadata": {},
   "source": [
    "# Next step import stock index prices..."
   ]
  }
 ],
 "metadata": {
  "kernelspec": {
   "display_name": "Python 3",
   "language": "python",
   "name": "python3"
  },
  "language_info": {
   "codemirror_mode": {
    "name": "ipython",
    "version": 3
   },
   "file_extension": ".py",
   "mimetype": "text/x-python",
   "name": "python",
   "nbconvert_exporter": "python",
   "pygments_lexer": "ipython3",
   "version": "3.7.6"
  }
 },
 "nbformat": 4,
 "nbformat_minor": 2
}
